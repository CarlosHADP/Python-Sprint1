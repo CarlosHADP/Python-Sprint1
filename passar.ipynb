{
 "cells": [
  {
   "cell_type": "code",
   "execution_count": 31,
   "metadata": {},
   "outputs": [
    {
     "name": "stdout",
     "output_type": "stream",
     "text": [
      "MAHINDRA RACING\n",
      "ABT CUPRA\n",
      "ANDRETTI\n",
      "DS PENSKE\n",
      "ENVISION RACING\n",
      "ERT FORMULA\n",
      "JAGUAR TCS\n",
      "MASERATI MSG\n",
      "NEOM MCLAREN\n",
      "NISSAN\n",
      "TAG HEUER PORSCHE\n",
      "\n",
      "Nao foi dessa vez, vc perdeu!\n",
      "Sua pontuacao- NISSAN = 8\n",
      "TABELA: \n",
      "ANDRETTI = 93\n",
      "TAG HEUER PORSCHE = 85\n",
      "MASERATI MSG = 83\n",
      "JAGUAR TCS = 80\n",
      "ENVISION RACING = 77\n",
      "ABT CUPRA = 57\n",
      "MAHINDRA RACING = 39\n",
      "ERT FORMULA = 22\n",
      "NEOM MCLAREN = 17\n"
     ]
    }
   ],
   "source": [
    "import random \n",
    "\n",
    "equipes = [\"MAHINDRA RACING\",\"ABT CUPRA\", \"ANDRETTI\", \"DS PENSKE\", \"ENVISION RACING\", \"ERT FORMULA\", \"JAGUAR TCS\", \"MASERATI MSG\", \"NEOM MCLAREN\", \"NISSAN\", \"TAG HEUER PORSCHE\"]\n",
    "for i in equipes:\n",
    "    print(i)\n",
    "print()\n",
    "seuTime = str(input(\"Escolha uma equipe das opcoes dadas:\").upper())\n",
    "pontosDoTime = random.randint(1,100)\n",
    "\n",
    "def criarPontuacoes():\n",
    "    pontuacaoEquipe = []\n",
    "    for k in range(len(equipes)):\n",
    "        pontuacaoEquipe.append(random.randint(1,100))\n",
    "        \n",
    "    return pontuacaoEquipe\n",
    "\n",
    "\n",
    "def mostrarValores(seuTime):\n",
    "    pontos = criarPontuacoes()\n",
    "    pontos.sort()\n",
    "    random.shuffle(equipes)\n",
    "    i = len(equipes) - 1\n",
    "        \n",
    "    if pontosDoTime > pontos[-1]:\n",
    "        print(\"Parabens ganhou o campeonato\")\n",
    "    else:\n",
    "        print(\"Nao foi dessa vez, vc perdeu!\")\n",
    "    print(f\"Sua pontuacao- {seuTime} = {pontosDoTime}\")\n",
    "        \n",
    "    print(\"TABELA: \")\n",
    "    while i > 0: \n",
    "        if equipes[i] != seuTime:\n",
    "            print(f\"{equipes[i]} = {pontos[i]}\")\n",
    "        else:\n",
    "            pass\n",
    "        \n",
    "        i-=1\n",
    "            \n",
    "\n",
    "criarPontuacoes()\n",
    "mostrarValores(seuTime)\n",
    "            \n",
    "    "
   ]
  }
 ],
 "metadata": {
  "kernelspec": {
   "display_name": "Python 3",
   "language": "python",
   "name": "python3"
  },
  "language_info": {
   "codemirror_mode": {
    "name": "ipython",
    "version": 3
   },
   "file_extension": ".py",
   "mimetype": "text/x-python",
   "name": "python",
   "nbconvert_exporter": "python",
   "pygments_lexer": "ipython3",
   "version": "3.9.1"
  }
 },
 "nbformat": 4,
 "nbformat_minor": 2
}
